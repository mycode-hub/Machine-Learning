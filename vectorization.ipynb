{
  "nbformat": 4,
  "nbformat_minor": 0,
  "metadata": {
    "colab": {
      "name": "vectorization.ipynb",
      "provenance": [],
      "collapsed_sections": [],
      "include_colab_link": true
    },
    "kernelspec": {
      "name": "python3",
      "display_name": "Python 3"
    }
  },
  "cells": [
    {
      "cell_type": "markdown",
      "metadata": {
        "id": "view-in-github",
        "colab_type": "text"
      },
      "source": [
        "<a href=\"https://colab.research.google.com/github/mycode-hub/Machine-Learning/blob/master/vectorization.ipynb\" target=\"_parent\"><img src=\"https://colab.research.google.com/assets/colab-badge.svg\" alt=\"Open In Colab\"/></a>"
      ]
    },
    {
      "cell_type": "code",
      "metadata": {
        "id": "1ZpGZPph83s9",
        "colab_type": "code",
        "colab": {}
      },
      "source": [
        "import numpy as np\n",
        "import time"
      ],
      "execution_count": null,
      "outputs": []
    },
    {
      "cell_type": "code",
      "metadata": {
        "id": "OLvhqPF19D9d",
        "colab_type": "code",
        "colab": {
          "base_uri": "https://localhost:8080/",
          "height": 33
        },
        "outputId": "8d11bdc8-5959-425a-aad3-712597749614"
      },
      "source": [
        "a = [1,2,3,4,5]\n",
        "print (a )"
      ],
      "execution_count": null,
      "outputs": [
        {
          "output_type": "stream",
          "text": [
            "[1, 2, 3, 4, 5]\n"
          ],
          "name": "stdout"
        }
      ]
    },
    {
      "cell_type": "code",
      "metadata": {
        "id": "aNz7we8o9cMY",
        "colab_type": "code",
        "colab": {
          "base_uri": "https://localhost:8080/",
          "height": 50
        },
        "outputId": "747e7145-0ee3-4074-d06b-b975ddfe4788"
      },
      "source": [
        "a =np.random.rand(1000000)\n",
        "b =np.random.rand(1000000)\n",
        "tic =time.time();\n",
        "#c= np.dot(a,b)\n",
        "c=a@b\n",
        "tac=time.time()\n",
        "print(c)\n",
        "print( \"vectorized time \" +  (str)((tac-tic) *1000) + \" in ms \")"
      ],
      "execution_count": null,
      "outputs": [
        {
          "output_type": "stream",
          "text": [
            "250133.9466154487\n",
            "vectorized time 1.73187255859375 in ms \n"
          ],
          "name": "stdout"
        }
      ]
    },
    {
      "cell_type": "code",
      "metadata": {
        "id": "0P4ZwJTd-dEz",
        "colab_type": "code",
        "colab": {
          "base_uri": "https://localhost:8080/",
          "height": 50
        },
        "outputId": "ab4f8125-69b6-4936-986f-8bc49287d554"
      },
      "source": [
        "c=0\n",
        "tic =time.time();             #initialize time\n",
        "\n",
        "for i in range(1000000) :     #element wise calculation of dot product and summation\n",
        "  c+=a[i]*b[i]\n",
        "tac=time.time()               #stop time\n",
        "print(c)\n",
        "print( \"for loop time \" +  (str)((tac-tic) *1000) + \" in ms \")"
      ],
      "execution_count": null,
      "outputs": [
        {
          "output_type": "stream",
          "text": [
            "250133.94661545355\n",
            "for loop time 587.5780582427979 in ms \n"
          ],
          "name": "stdout"
        }
      ]
    },
    {
      "cell_type": "code",
      "metadata": {
        "id": "u_WGgZNvBGnd",
        "colab_type": "code",
        "colab": {
          "base_uri": "https://localhost:8080/",
          "height": 115
        },
        "outputId": "03be1919-6775-44cc-a568-cc6a1ff52096"
      },
      "source": [
        "a = np.array([[1,2],[3,4]])\n",
        "b = np.array([[1,1],[1,1]])\n",
        "print(a*b)\n",
        "print(a@b)\n",
        "print(np.dot(a,b))"
      ],
      "execution_count": null,
      "outputs": [
        {
          "output_type": "stream",
          "text": [
            "[[1 2]\n",
            " [3 4]]\n",
            "[[3 3]\n",
            " [7 7]]\n",
            "[[3 3]\n",
            " [7 7]]\n"
          ],
          "name": "stdout"
        }
      ]
    },
    {
      "cell_type": "code",
      "metadata": {
        "id": "KDZq06WxR3yo",
        "colab_type": "code",
        "colab": {}
      },
      "source": [
        ""
      ],
      "execution_count": null,
      "outputs": []
    }
  ]
}